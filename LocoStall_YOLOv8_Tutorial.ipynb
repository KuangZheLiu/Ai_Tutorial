{
  "nbformat": 4,
  "nbformat_minor": 0,
  "metadata": {
    "colab": {
      "provenance": [],
      "gpuType": "T4",
      "include_colab_link": true
    },
    "kernelspec": {
      "name": "python3",
      "display_name": "Python 3"
    },
    "language_info": {
      "name": "python"
    },
    "accelerator": "GPU"
  },
  "cells": [
    {
      "cell_type": "markdown",
      "metadata": {
        "id": "view-in-github",
        "colab_type": "text"
      },
      "source": [
        "<a href=\"https://colab.research.google.com/github/KuangZheLiu/Ai_Tutorial/blob/main/LocoStall_YOLOv8_Tutorial.ipynb\" target=\"_parent\"><img src=\"https://colab.research.google.com/assets/colab-badge.svg\" alt=\"Open In Colab\"/></a>"
      ]
    },
    {
      "cell_type": "markdown",
      "source": [
        "# Install YOLO pack\n",
        "\n",
        "- https://github.com/ultralytics/ultralytics/blob/main/requirements.txt\n"
      ],
      "metadata": {
        "id": "e5jV5YwmorHQ"
      }
    },
    {
      "cell_type": "code",
      "execution_count": null,
      "metadata": {
        "id": "FcFbhrh2HjvD"
      },
      "outputs": [],
      "source": [
        "!pip install ultralytics"
      ]
    },
    {
      "cell_type": "markdown",
      "source": [
        "# Dataset\n",
        "\n",
        "#### Download - gdown - https://github.com/wkentaro/gdown\n",
        "\n",
        "## Download Dataset From GoogleDrive\n",
        "### !gdown --fuzzy '{downlad-link-id}' -O {filename}\n",
        "\n",
        "## Download Dataset From Github\n",
        "### !git clone"
      ],
      "metadata": {
        "id": "NsVHBo6JpORp"
      }
    },
    {
      "cell_type": "code",
      "source": [
        "# Download dataset\n",
        "!pip install --upgrade gdown\n",
        "# -O output\n",
        "!gdown --fuzzy '1smuV4GC2miH-mfsiEVWkZZICEaIFQ3X0' -O datasets.zip\n",
        "\n",
        "# Datasets_Tutorial.zip\n",
        "# https://drive.google.com/file/d/1smuV4GC2miH-mfsiEVWkZZICEaIFQ3X0/view?usp=sharing"
      ],
      "metadata": {
        "id": "i8gEZ-VMH4GQ"
      },
      "execution_count": null,
      "outputs": []
    },
    {
      "cell_type": "code",
      "source": [
        "# from urllib.request import urlretrieve\n",
        "# url = \"https://github.com/-\"\n",
        "# urlretrieve(url, \"datasets.zip\")"
      ],
      "metadata": {
        "id": "MBdFSSnS8CtL"
      },
      "execution_count": null,
      "outputs": []
    },
    {
      "cell_type": "code",
      "source": [
        "# Unzip dataset\n",
        "!unzip -q datasets.zip"
      ],
      "metadata": {
        "id": "oxhqiUfFKS8z"
      },
      "execution_count": null,
      "outputs": []
    },
    {
      "cell_type": "code",
      "source": [
        "# Image Check\n",
        "from glob import glob\n",
        "\n",
        "img_train = sorted(glob('/content/datasets/train/images/*.jpg'))\n",
        "img_val = sorted(glob('/content/datasets/valid/images/*.jpg'))\n",
        "img_test = sorted(glob('/content/datasets/test/images/*.jpg'))\n",
        "\n",
        "print(len(img_train), len(img_val), len(img_test))"
      ],
      "metadata": {
        "id": "h-2pFxwR8LBU"
      },
      "execution_count": null,
      "outputs": []
    },
    {
      "cell_type": "markdown",
      "source": [
        "# Model and weight\n",
        "\n",
        "- https://github.com/ultralytics/ultralytics/blob/main/ultralytics/cfg/models/v8/yolov8.yaml\n",
        "\n",
        "- https://github.com/ultralytics/ultralytics/blob/main/ultralytics/cfg/__init__.py\n",
        "\n",
        "- https://github.com/ultralytics/ultralytics/blob/main/ultralytics/cfg/default.yaml\n"
      ],
      "metadata": {
        "id": "IkAU_JdBsDqK"
      }
    },
    {
      "cell_type": "code",
      "source": [
        "# Download a model weight\n",
        "!gdown --fuzzy '1YzbGLJZc6c8WAzJsbml_7cciKzY8f7TR' -O best.pt\n",
        "\n",
        "# LocoStall_Model_YOLOv8m_final_0816\n",
        "# https://drive.google.com/file/d/1YzbGLJZc6c8WAzJsbml_7cciKzY8f7TR/view?usp=drive_link"
      ],
      "metadata": {
        "id": "j83z0tgQl-sd"
      },
      "execution_count": null,
      "outputs": []
    },
    {
      "cell_type": "code",
      "source": [
        "from ultralytics import YOLO\n",
        "\n",
        "# Load a model\n",
        "\n",
        "# model = YOLO('yolov8m.yaml')  # build a new model from YAML\n",
        "# model = YOLO('yolov8m.pt')  # load a pretrained model (recommended for training)\n",
        "\n",
        "model = YOLO('yolov8m.yaml').load('yolov8m.pt')  # build from YAML and transfer weights\n",
        "# model = YOLO('yolov8m.yaml').load('best.pt')\n"
      ],
      "metadata": {
        "id": "jP556VxBHtFd"
      },
      "execution_count": null,
      "outputs": []
    },
    {
      "cell_type": "markdown",
      "source": [
        "## Training Arguments\n",
        "- https://docs.ultralytics.com/modes/train/#arguments\n",
        "\n",
        "- epochs patience imgsz optimizer nbs\n"
      ],
      "metadata": {
        "id": "S1CMz1k7Bw41"
      }
    },
    {
      "cell_type": "code",
      "source": [
        "# training\n",
        "# data: 相對dataset路徑\n",
        "# save_period=3, project='LocaStall_YOLO_Model', name='Tutorial'\n",
        "model.train(data=\"datasets/shop.yaml\", epochs=50, patience=5,)  # train the model"
      ],
      "metadata": {
        "id": "BVQ4Dn7iJOav"
      },
      "execution_count": null,
      "outputs": []
    },
    {
      "cell_type": "markdown",
      "source": [
        "#### Evaluation"
      ],
      "metadata": {
        "id": "WiCok6YyLDHp"
      }
    },
    {
      "cell_type": "code",
      "source": [
        "# Evaluate model performance on the validation set\n",
        "metrics = model.val()\n",
        "print(metrics)"
      ],
      "metadata": {
        "id": "qyCv1VesJXrr"
      },
      "execution_count": null,
      "outputs": []
    },
    {
      "cell_type": "markdown",
      "source": [
        "#### Evaluation with test images\n",
        "\n",
        "- https://docs.ultralytics.com/modes/predict/#inference-arguments\n",
        "\n",
        "- conf iou imgsz"
      ],
      "metadata": {
        "id": "ynpuuzw4LjJ-"
      }
    },
    {
      "cell_type": "code",
      "source": [
        "# Evaluate model performance on the test data set\n",
        "\n",
        "from ultralytics import YOLO\n",
        "from PIL import Image\n",
        "from glob import glob\n",
        "import cv2\n",
        "# Image.open():RGB，cv2.imread():BGR\n",
        "\n",
        "# Load Model Weight\n",
        "model = YOLO(\"/content/best.pt\")\n",
        "\n",
        "# paths_img = sorted(glob('/content/datasets/test/images/*'))\n",
        "# from PIL\n",
        "for i in range(0, len(img_test)):\n",
        "  img = Image.open(img_test[i])\n",
        "  results = model.predict(source=img, save=True, conf=0.4)\n",
        "\n",
        "# result = results[0]\n",
        "# print(\"Box len:\", len(result.boxes))\n",
        "# box = result.boxes[0]\n",
        "# print(\"Object type:\", box.cls[0])\n",
        "# print(\"Coordinates:\", box.xyxy)\n",
        "# print(\"Probability:\", box.conf[0])"
      ],
      "metadata": {
        "id": "H_7Qi8Vm5uh6"
      },
      "execution_count": null,
      "outputs": []
    }
  ]
}